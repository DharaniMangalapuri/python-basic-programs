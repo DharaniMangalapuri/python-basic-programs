{
 "cells": [
  {
   "cell_type": "code",
   "execution_count": 1,
   "metadata": {},
   "outputs": [
    {
     "name": "stdout",
     "output_type": "stream",
     "text": [
      "hello world!\n"
     ]
    }
   ],
   "source": [
    "#print hello world\n",
    "print(\"hello world!\")"
   ]
  },
  {
   "cell_type": "code",
   "execution_count": 2,
   "metadata": {},
   "outputs": [
    {
     "name": "stdout",
     "output_type": "stream",
     "text": [
      "enter a number:678\n",
      "enter a number:5678\n",
      "sum of num1,num2 is: 6356\n"
     ]
    }
   ],
   "source": [
    "#to add two numbers\n",
    "num1=int(input(\"enter a number:\"))\n",
    "num2=int(input(\"enter a number:\"))\n",
    "result=num1+num2\n",
    "print(\"sum of num1,num2 is:\",result)"
   ]
  },
  {
   "cell_type": "code",
   "execution_count": 11,
   "metadata": {},
   "outputs": [
    {
     "name": "stdout",
     "output_type": "stream",
     "text": [
      "enter a number to be squareroot:2025\n",
      "the squareroot of 2025.000 is 45.000\n"
     ]
    }
   ],
   "source": [
    "#find squareroot\n",
    "num=float(input(\"enter a number to be squareroot:\"))\n",
    "num_sqrt=num ** 0.5\n",
    "print('the squareroot of %0.3f is %0.3f'%(num,num_sqrt))\n",
    "#print(num_sqrt),9**1/2->automatically turns out root"
   ]
  },
  {
   "cell_type": "code",
   "execution_count": 13,
   "metadata": {},
   "outputs": [
    {
     "name": "stdout",
     "output_type": "stream",
     "text": [
      "enter breadth:4\n",
      "enter length:6\n",
      "12.0\n"
     ]
    }
   ],
   "source": [
    "#to calculate the area of a triangle\n",
    "#area of a triangle=1/2bl\n",
    "breadth=float(input(\"enter breadth:\"))\n",
    "length=float(input(\"enter length:\"))\n",
    "x=breadth*length\n",
    "area=1/2*x\n",
    "print(area)"
   ]
  },
  {
   "cell_type": "code",
   "execution_count": 28,
   "metadata": {},
   "outputs": [
    {
     "name": "stdout",
     "output_type": "stream",
     "text": [
      "enter a number:1\n",
      "enter b number:8\n",
      "enter c number:16\n",
      "-4.0 -4.0\n"
     ]
    }
   ],
   "source": [
    "#to solve a quadratic equation\n",
    "#it is a second order quadratic equation,formula=ax^2+bx+c\n",
    "#-b+-root(b^2-4ac)/(2a)\n",
    "a=int(input(\"enter a number:\"))\n",
    "b=int(input(\"enter b number:\"))\n",
    "c=int(input(\"enter c number:\"))\n",
    "x1=b**2-4*a*c\n",
    "x2=x1**0.5\n",
    "x3=-b+x2\n",
    "x3_1=-b-x2\n",
    "x4=x3/2*a\n",
    "x4_1=x3_1/2*a\n",
    "print(x4,x4_1)"
   ]
  },
  {
   "cell_type": "code",
   "execution_count": 2,
   "metadata": {},
   "outputs": [
    {
     "name": "stdout",
     "output_type": "stream",
     "text": [
      "10 10\n"
     ]
    }
   ],
   "source": [
    "#swap two variables\n",
    "a=9\n",
    "b=10\n",
    "a=b\n",
    "print(b,a)"
   ]
  },
  {
   "cell_type": "code",
   "execution_count": 7,
   "metadata": {},
   "outputs": [
    {
     "name": "stdout",
     "output_type": "stream",
     "text": [
      "1\n"
     ]
    }
   ],
   "source": [
    "#generate a random number\n",
    "import numpy as np\n",
    "a=np.random.randint(9)\n",
    "print(a)"
   ]
  },
  {
   "cell_type": "code",
   "execution_count": 12,
   "metadata": {},
   "outputs": [
    {
     "name": "stdout",
     "output_type": "stream",
     "text": [
      "enter kilometers:12\n",
      "enter miles:13\n",
      "7.458048477315103 20.917\n"
     ]
    }
   ],
   "source": [
    "#convert km into miles\n",
    "#i mile=1.609 km\n",
    "km=int(input(\"enter kilometers:\"))\n",
    "converted_miles=km/1.609\n",
    "#convert miles into km\n",
    "miles=int(input(\"enter miles:\"))\n",
    "converted_km=miles*1.609\n",
    "print(converted_miles,converted_km)"
   ]
  },
  {
   "cell_type": "code",
   "execution_count": 13,
   "metadata": {},
   "outputs": [
    {
     "name": "stdout",
     "output_type": "stream",
     "text": [
      "enter celsius:2\n",
      "enter fahrenheit:23\n",
      "0.0591715976331361 2.0\n"
     ]
    }
   ],
   "source": [
    "#convert celsius into fahrenheit\n",
    "#1 celsius=33.8f\n",
    "celsius=float(input(\"enter celsius:\"))\n",
    "converted_fahrenheit=celsius/33.8\n",
    "fahrenheit=float(input(\"enter fahrenheit:\"))\n",
    "converted_celsius=converted_fahrenheit*33.8\n",
    "print(converted_fahrenheit,converted_celsius)"
   ]
  },
  {
   "cell_type": "code",
   "execution_count": 17,
   "metadata": {},
   "outputs": [
    {
     "name": "stdout",
     "output_type": "stream",
     "text": [
      "enter a number:-8\n",
      "a is negative -8.0\n"
     ]
    }
   ],
   "source": [
    "#to check whether a given number is positive.negative or 0\n",
    "a=float(input(\"enter a number:\"))\n",
    "if(a>0):\n",
    "    print(\"a is positive\",a)\n",
    "elif(a<0):\n",
    "    print(\"a is negative\",a)\n",
    "else:\n",
    "    print(\"a is zero\",a)"
   ]
  },
  {
   "cell_type": "code",
   "execution_count": 2,
   "metadata": {},
   "outputs": [
    {
     "name": "stdout",
     "output_type": "stream",
     "text": [
      "enter a number:098765\n",
      "odd number\n"
     ]
    }
   ],
   "source": [
    "#python program to check a number is even or odd\n",
    "a1=int(input(\"enter a number:\"))\n",
    "if(a1%2==0):\n",
    "    print(\"even number\")\n",
    "else:\n",
    "    print(\"odd number\")"
   ]
  },
  {
   "cell_type": "code",
   "execution_count": 20,
   "metadata": {},
   "outputs": [
    {
     "name": "stdout",
     "output_type": "stream",
     "text": [
      "enter a year:2017\n",
      "given year is not a leap year\n"
     ]
    }
   ],
   "source": [
    "#python program to check the given year is leap or not\n",
    "year=int(input(\"enter a year:\"))\n",
    "if(year%4==0 and year%100!=0 or year%400==0):\n",
    "    print(\"given year is leap year\")\n",
    "else:\n",
    "    print(\"given year is not a leap year\")"
   ]
  },
  {
   "cell_type": "code",
   "execution_count": 23,
   "metadata": {},
   "outputs": [
    {
     "name": "stdout",
     "output_type": "stream",
     "text": [
      "enter number:87\n",
      "enter number:83\n",
      "enter number:10\n",
      "a is largest number\n"
     ]
    }
   ],
   "source": [
    "#find largest among three numbers\n",
    "a=int(input(\"enter number:\"))\n",
    "b=int(input(\"enter number:\"))\n",
    "c=int(input(\"enter number:\"))\n",
    "if(a>b and a>c):\n",
    "    print(\"a is largest number\")\n",
    "elif(b>c and b>a):\n",
    "    print(\"b is largest number\")\n",
    "else:\n",
    "    print(\"c is largest number\")"
   ]
  },
  {
   "cell_type": "code",
   "execution_count": 29,
   "metadata": {},
   "outputs": [
    {
     "name": "stdout",
     "output_type": "stream",
     "text": [
      "enter number:5\n",
      "it is prime number\n"
     ]
    }
   ],
   "source": [
    "#check given number is prime number\n",
    "a=int(input(\"enter number:\"))\n",
    "flag=False\n",
    "if a==1:\n",
    "    print(\"it is not a prime number\")\n",
    "elif(a>1):\n",
    "    for i in range(2,a):\n",
    "        if(a%i==0):\n",
    "            flag=True\n",
    "            break\n",
    "    if flag:\n",
    "        print(\"it is not prime number\")\n",
    "    else:\n",
    "        print(\"it is prime number\")"
   ]
  },
  {
   "cell_type": "code",
   "execution_count": 32,
   "metadata": {},
   "outputs": [
    {
     "name": "stdout",
     "output_type": "stream",
     "text": [
      "enter first num:45\n",
      "enter second num87\n",
      "47\n",
      "53\n",
      "59\n",
      "61\n",
      "67\n",
      "71\n",
      "73\n",
      "79\n",
      "83\n"
     ]
    }
   ],
   "source": [
    "#print all prime numbers in an interval\n",
    "a=int(input(\"enter first num:\"))\n",
    "b=int(input(\"enter second num\"))\n",
    "for num in range(a,b+1):\n",
    "  if num>1:\n",
    "    for i in range(2,num):\n",
    "        if(num%i==0):\n",
    "            break\n",
    "    else:\n",
    "        print(num)"
   ]
  },
  {
   "cell_type": "code",
   "execution_count": 26,
   "metadata": {},
   "outputs": [
    {
     "name": "stdout",
     "output_type": "stream",
     "text": [
      "enter number:5\n",
      "120\n"
     ]
    }
   ],
   "source": [
    "#to find the factorial of the number\n",
    "#n!=(n!)*(n-1!)*(n-2!).......\n",
    "#5!=5*4*3*2*1=120\n",
    "n=int(input(\"enter number:\"))\n",
    "factorial=1\n",
    "for i in range(1,n+1):\n",
    "    factorial =factorial*i\n",
    "print(factorial)"
   ]
  },
  {
   "cell_type": "code",
   "execution_count": 35,
   "metadata": {},
   "outputs": [
    {
     "name": "stdout",
     "output_type": "stream",
     "text": [
      "enter a table:5\n",
      "enter a num:10\n",
      "5 * 1 = 5\n",
      "5 * 2 = 10\n",
      "5 * 3 = 15\n",
      "5 * 4 = 20\n",
      "5 * 5 = 25\n",
      "5 * 6 = 30\n",
      "5 * 7 = 35\n",
      "5 * 8 = 40\n",
      "5 * 9 = 45\n",
      "5 * 10 = 50\n"
     ]
    }
   ],
   "source": [
    "#to display the multiplication table\n",
    "table=int(input(\"enter a table:\"))\n",
    "num=int(input(\"enter a num:\"))\n",
    "for i in range(1,num+1):\n",
    "    print(table,\"*\",i,\"=\",table*i)"
   ]
  },
  {
   "cell_type": "code",
   "execution_count": 37,
   "metadata": {},
   "outputs": [
    {
     "name": "stdout",
     "output_type": "stream",
     "text": [
      "enter a table:5\n",
      "enter a num:10\n",
      "5 * 10 = 50\n",
      "5 * 9 = 45\n",
      "5 * 8 = 40\n",
      "5 * 7 = 35\n",
      "5 * 6 = 30\n",
      "5 * 5 = 25\n",
      "5 * 4 = 20\n",
      "5 * 3 = 15\n",
      "5 * 2 = 10\n",
      "5 * 1 = 5\n"
     ]
    }
   ],
   "source": [
    "#to display the multiplication table in reverse order\n",
    "table=int(input(\"enter a table:\"))\n",
    "num=int(input(\"enter a num:\"))\n",
    "for i in range(num,0,-1):\n",
    "    print(table,\"*\",i,\"=\",table*i)"
   ]
  },
  {
   "cell_type": "code",
   "execution_count": 1,
   "metadata": {},
   "outputs": [
    {
     "name": "stdout",
     "output_type": "stream",
     "text": [
      "hello world\n"
     ]
    }
   ],
   "source": [
    "print(\"hello world\")"
   ]
  },
  {
   "cell_type": "code",
   "execution_count": 2,
   "metadata": {},
   "outputs": [
    {
     "name": "stdout",
     "output_type": "stream",
     "text": [
      "enter how many terms:4\n",
      "fibonacci sequence:\n",
      "0\n",
      "1\n",
      "1\n",
      "2\n"
     ]
    }
   ],
   "source": [
    "#to print the fibonacci series\n",
    "n=int(input(\"enter how many terms:\"))\n",
    "n1,n2=0,1\n",
    "count =0\n",
    "if(n<=0):\n",
    "    print(\"please enter positive number\")\n",
    "elif(n==1):\n",
    "    print(\"fibonacci series upto\",n)\n",
    "    print(n1)\n",
    "else:\n",
    "    print(\"fibonacci sequence:\")\n",
    "    while count<n:\n",
    "        print(n1)\n",
    "        n3=n1+n2\n",
    "        n1=n2\n",
    "        n2=n3\n",
    "        count+=1"
   ]
  },
  {
   "cell_type": "code",
   "execution_count": 6,
   "metadata": {},
   "outputs": [
    {
     "name": "stdout",
     "output_type": "stream",
     "text": [
      "enter num:6\n",
      "Fibonacci series\n",
      "1 2 3 5 8 13 \n"
     ]
    }
   ],
   "source": [
    "#using for loop\n",
    "num=int(input(\"enter num:\"))\n",
    "n1,n2=0,1\n",
    "print(\"Fibonacci series\")\n",
    "for i in range(num):\n",
    "    n3=n1+n2\n",
    "    n1=n2\n",
    "    n2=n3\n",
    "    print(n3,end=\" \")\n",
    "print()"
   ]
  },
  {
   "cell_type": "code",
   "execution_count": 18,
   "metadata": {},
   "outputs": [
    {
     "name": "stdout",
     "output_type": "stream",
     "text": [
      "Enter a number:45678\n",
      "45678 is not an armstrong number\n"
     ]
    }
   ],
   "source": [
    "#to check armstrong number\n",
    "num=int(input(\"Enter a number:\"))\n",
    "num_count=len(str(num))\n",
    "#print(num_count)\n",
    "sum=0\n",
    "temp=num\n",
    "while temp>0:\n",
    "    digit=temp%10\n",
    "    sum+=digit ** num_count\n",
    "    temp //=10\n",
    "if num==sum:\n",
    "    print(num,\"is an armstrong number\")\n",
    "else:\n",
    "    print(num,\"is not an armstrong number\")"
   ]
  },
  {
   "cell_type": "code",
   "execution_count": 20,
   "metadata": {},
   "outputs": [
    {
     "name": "stdout",
     "output_type": "stream",
     "text": [
      "enter lower range:1600\n",
      "enter upper range:2000\n",
      "1634\n"
     ]
    }
   ],
   "source": [
    "#to find armstrong number in an interval\n",
    "lower=int(input(\"enter lower range:\"))\n",
    "upper=int(input(\"enter upper range:\"))\n",
    "for num in range(lower,upper+1):\n",
    "    order=len(str(num))\n",
    "    sum=0\n",
    "    temp=num\n",
    "    while temp>0:\n",
    "        digit=temp % 10\n",
    "        sum += digit ** order\n",
    "        temp //=10\n",
    "    if num==sum:\n",
    "        print(num)"
   ]
  },
  {
   "cell_type": "code",
   "execution_count": 8,
   "metadata": {},
   "outputs": [
    {
     "name": "stdout",
     "output_type": "stream",
     "text": [
      "enter natural numbers:10\n",
      "the sum is:  50.5\n"
     ]
    }
   ],
   "source": [
    "#to find the sum of natural numbers\n",
    "#s=n(n+1)/2\n",
    "n=int(input(\"enter natural numbers:\"))\n",
    "s=n*n+1\n",
    "sum=s/2\n",
    "print(\"the sum is: \",sum)"
   ]
  },
  {
   "cell_type": "code",
   "execution_count": 9,
   "metadata": {},
   "outputs": [
    {
     "name": "stdout",
     "output_type": "stream",
     "text": [
      "the total terms are: 10\n",
      "2 raised to power 0 is 1\n",
      "2 raised to power 1 is 2\n",
      "2 raised to power 2 is 4\n",
      "2 raised to power 3 is 8\n",
      "2 raised to power 4 is 16\n",
      "2 raised to power 5 is 32\n",
      "2 raised to power 6 is 64\n",
      "2 raised to power 7 is 128\n",
      "2 raised to power 8 is 256\n",
      "2 raised to power 9 is 512\n"
     ]
    }
   ],
   "source": [
    "#to dispay powers of 2 using Anonymous function\n",
    "terms=10\n",
    "result=list(map(lambda x:2**x,range(terms)))\n",
    "print(\"the total terms are:\",terms)\n",
    "for i in range(terms):\n",
    "    print(\"2 raised to power\",i,\"is\",result[i])"
   ]
  },
  {
   "cell_type": "code",
   "execution_count": 25,
   "metadata": {},
   "outputs": [
    {
     "name": "stdout",
     "output_type": "stream",
     "text": [
      "13 26 39 52 65 78 91 "
     ]
    }
   ],
   "source": [
    "#to find numbers divisible by another number\n",
    "numbers=100\n",
    "for i in range(1,numbers):\n",
    "    if(i%13==0):\n",
    "        print(i,end=\" \")"
   ]
  },
  {
   "cell_type": "code",
   "execution_count": 21,
   "metadata": {},
   "outputs": [
    {
     "name": "stdout",
     "output_type": "stream",
     "text": [
      "numbers divisible by 13 are [65, 39, 221]\n"
     ]
    }
   ],
   "source": [
    "#by using anonymous function\n",
    "my_list=[12,65,54,39,102,339,221]\n",
    "result=list(filter(lambda x:(x%13==0),my_list))\n",
    "print(\"numbers divisible by 13 are\",result)"
   ]
  },
  {
   "cell_type": "code",
   "execution_count": 36,
   "metadata": {},
   "outputs": [
    {
     "name": "stdout",
     "output_type": "stream",
     "text": [
      "enter number:33\n",
      "binary 0b100001 octal 0o41 hexadecimal 0x21\n"
     ]
    }
   ],
   "source": [
    "#to convert Decimal to binary,octal and hexadecimal\n",
    "num=int(input(\"enter number:\"))\n",
    "binary=bin(num)\n",
    "octal =oct(num)\n",
    "hexadecimal=hex(num)\n",
    "print(\"binary\",binary,\"octal\",octal,\"hexadecimal\",hexadecimal)"
   ]
  },
  {
   "cell_type": "code",
   "execution_count": 33,
   "metadata": {},
   "outputs": [
    {
     "name": "stdout",
     "output_type": "stream",
     "text": [
      "41"
     ]
    }
   ],
   "source": [
    "#decimal to octal without using built in functions\n",
    "def Decoct(n):\n",
    "    octal=[0]*100\n",
    "    i=0\n",
    "    while(n!=0):\n",
    "        octal[i]=n%8\n",
    "        n=int(n/8)\n",
    "        i+=1\n",
    "    for j in range(i-1,-1,-1):\n",
    "        print(octal[j],end=\"\")\n",
    "Decoct(33)"
   ]
  },
  {
   "cell_type": "code",
   "execution_count": 34,
   "metadata": {},
   "outputs": [
    {
     "name": "stdout",
     "output_type": "stream",
     "text": [
      "100001"
     ]
    }
   ],
   "source": [
    "#decimal to binary\n",
    "def Decoct(n):\n",
    "    octal=[0]*100\n",
    "    i=0\n",
    "    while(n!=0):\n",
    "        octal[i]=n%2\n",
    "        n=int(n/2)\n",
    "        i+=1\n",
    "    for j in range(i-1,-1,-1):\n",
    "        print(octal[j],end=\"\")\n",
    "Decoct(33)"
   ]
  },
  {
   "cell_type": "code",
   "execution_count": 35,
   "metadata": {},
   "outputs": [
    {
     "name": "stdout",
     "output_type": "stream",
     "text": [
      "21"
     ]
    }
   ],
   "source": [
    "#decimal to hexadecimal\n",
    "def Decoct(n):\n",
    "    octal=[0]*100\n",
    "    i=0\n",
    "    while(n!=0):\n",
    "        octal[i]=n%16\n",
    "        n=int(n/16)\n",
    "        i+=1\n",
    "    for j in range(i-1,-1,-1):\n",
    "        print(octal[j],end=\"\")\n",
    "Decoct(33)"
   ]
  },
  {
   "cell_type": "code",
   "execution_count": 44,
   "metadata": {},
   "outputs": [
    {
     "name": "stdout",
     "output_type": "stream",
     "text": [
      "a b c d e f g h i j k l m n o p q r s t u v w x y z \n",
      "Alphabet from A-Z\n",
      "A B C D E F G H I J K L M N O P Q R S T U V W X Y Z "
     ]
    }
   ],
   "source": [
    "#to print the english alphabets\n",
    "import string\n",
    "for letter in string.ascii_lowercase:\n",
    "    print(letter,end=\" \")\n",
    "print(\"\\nAlphabet from A-Z\")\n",
    "for letter in string.ascii_uppercase:\n",
    "    print(letter,end=\" \")"
   ]
  },
  {
   "cell_type": "code",
   "execution_count": 51,
   "metadata": {},
   "outputs": [
    {
     "name": "stdout",
     "output_type": "stream",
     "text": [
      "please enter a character:h\n",
      "The ASCII value ofhis 104\n"
     ]
    }
   ],
   "source": [
    "#to get the ASCII value of a character\n",
    "k=input(\"please enter a character:\")\n",
    "print(\"The ASCII value of\"+k+\"is\",ord(k))"
   ]
  },
  {
   "cell_type": "code",
   "execution_count": 53,
   "metadata": {},
   "outputs": [
    {
     "name": "stdout",
     "output_type": "stream",
     "text": [
      "enter number:87\n",
      "the ASCII value is W\n"
     ]
    }
   ],
   "source": [
    "#by using char() function\n",
    "num=int(input(\"enter number:\"))\n",
    "print(\"the ASCII value is\",chr(num))"
   ]
  },
  {
   "cell_type": "code",
   "execution_count": 67,
   "metadata": {},
   "outputs": [
    {
     "name": "stdout",
     "output_type": "stream",
     "text": [
      "1 2 5 10 "
     ]
    }
   ],
   "source": [
    "#to print the factors of a number\n",
    "num=10\n",
    "for i in range(1,num+1):\n",
    "    if(num%i==0):\n",
    "        print(i,end=\" \")"
   ]
  },
  {
   "cell_type": "code",
   "execution_count": 69,
   "metadata": {},
   "outputs": [
    {
     "name": "stdout",
     "output_type": "stream",
     "text": [
      "the hcf is 6\n"
     ]
    }
   ],
   "source": [
    "#to print the HCF of a given number\n",
    "def compute_hcf(x,y):\n",
    "    if x>y:\n",
    "        smaller=y\n",
    "    else:\n",
    "        smaller=x\n",
    "    for i in range(1,smaller+1):\n",
    "        if((x%i==0)and (y%i==0)):\n",
    "            hcf=i\n",
    "    return hcf\n",
    "num1=54\n",
    "num2=24\n",
    "print(\"the hcf is\",compute_hcf(num1,num2))"
   ]
  },
  {
   "cell_type": "code",
   "execution_count": null,
   "metadata": {},
   "outputs": [],
   "source": []
  }
 ],
 "metadata": {
  "kernelspec": {
   "display_name": "Python 3",
   "language": "python",
   "name": "python3"
  },
  "language_info": {
   "codemirror_mode": {
    "name": "ipython",
    "version": 3
   },
   "file_extension": ".py",
   "mimetype": "text/x-python",
   "name": "python",
   "nbconvert_exporter": "python",
   "pygments_lexer": "ipython3",
   "version": "3.8.10"
  }
 },
 "nbformat": 4,
 "nbformat_minor": 4
}
